{
 "cells": [
  {
   "cell_type": "code",
   "execution_count": null,
   "metadata": {},
   "outputs": [],
   "source": []
  },
  {
   "cell_type": "code",
   "execution_count": 1,
   "metadata": {},
   "outputs": [],
   "source": [
    "import pandas as pd\n",
    "file_path = '/home/eric_baldwin/ddiMain/midterm/Meteor_Landing_Data/data/Meteorite_Landings_20240617.csv'\n",
    "df = pd.read_csv(file_path)"
   ]
  },
  {
   "cell_type": "code",
   "execution_count": 5,
   "metadata": {},
   "outputs": [
    {
     "data": {
      "text/plain": [
       "(45716, 10)"
      ]
     },
     "execution_count": 5,
     "metadata": {},
     "output_type": "execute_result"
    }
   ],
   "source": [
    "table_shape = df.shape\n",
    "table_shape"
   ]
  },
  {
   "cell_type": "code",
   "execution_count": 6,
   "metadata": {},
   "outputs": [
    {
     "name": "stdout",
     "output_type": "stream",
     "text": [
      "Minimum mass (g): 0.0\n",
      "Maximum mass (g): 60000000.0\n"
     ]
    }
   ],
   "source": [
    "min_mass = df['mass (g)'].min()\n",
    "max_mass = df['mass (g)'].max()\n",
    "print(f\"Minimum mass (g): {min_mass}\")\n",
    "print(f\"Maximum mass (g): {max_mass}\")"
   ]
  },
  {
   "cell_type": "code",
   "execution_count": 7,
   "metadata": {},
   "outputs": [
    {
     "data": {
      "text/plain": [
       "fall\n",
       "Fell     47070.715023\n",
       "Found    12461.922983\n",
       "Name: mass (g), dtype: float64"
      ]
     },
     "execution_count": 7,
     "metadata": {},
     "output_type": "execute_result"
    }
   ],
   "source": [
    "average_mass = df.groupby('fall')['mass (g)'].mean()\n",
    "average_mass"
   ]
  },
  {
   "cell_type": "code",
   "execution_count": 4,
   "metadata": {},
   "outputs": [
    {
     "data": {
      "text/plain": [
       "Found    44609\n",
       "Fell      1107\n",
       "Name: fall, dtype: int64"
      ]
     },
     "execution_count": 4,
     "metadata": {},
     "output_type": "execute_result"
    }
   ],
   "source": [
    "fall_counts = df['fall'].value_counts()\n",
    "fall_counts"
   ]
  },
  {
   "cell_type": "code",
   "execution_count": 8,
   "metadata": {},
   "outputs": [
    {
     "data": {
      "text/plain": [
       "(fall\n",
       " Fell     0.1\n",
       " Found    0.0\n",
       " Name: mass (g), dtype: float64,\n",
       " fall\n",
       " Fell     23000000.0\n",
       " Found    60000000.0\n",
       " Name: mass (g), dtype: float64)"
      ]
     },
     "execution_count": 8,
     "metadata": {},
     "output_type": "execute_result"
    }
   ],
   "source": [
    "min_mass = df.groupby('fall')['mass (g)'].min()\n",
    "max_mass = df.groupby('fall')['mass (g)'].max()\n",
    "min_mass, max_mass"
   ]
  },
  {
   "cell_type": "code",
   "execution_count": 10,
   "metadata": {},
   "outputs": [
    {
     "data": {
      "text/plain": [
       "(fall\n",
       " Fell      860.0\n",
       " Found    1575.0\n",
       " Name: year, dtype: float64,\n",
       " fall\n",
       " Fell     2013.0\n",
       " Found    2101.0\n",
       " Name: year, dtype: float64)"
      ]
     },
     "execution_count": 10,
     "metadata": {},
     "output_type": "execute_result"
    }
   ],
   "source": [
    "min_yr = df.groupby('fall')['year'].min()\n",
    "max_yr = df.groupby('fall')['year'].max()\n",
    "min_yr, max_yr"
   ]
  },
  {
   "cell_type": "code",
   "execution_count": 14,
   "metadata": {},
   "outputs": [
    {
     "data": {
      "text/plain": [
       "L6         8285\n",
       "H5         7142\n",
       "L5         4796\n",
       "H6         4528\n",
       "H4         4211\n",
       "           ... \n",
       "EL7           1\n",
       "CH/CBb        1\n",
       "H/L~4         1\n",
       "LL3.7-6       1\n",
       "L/LL          1\n",
       "Name: recclass, Length: 466, dtype: int64"
      ]
     },
     "execution_count": 14,
     "metadata": {},
     "output_type": "execute_result"
    }
   ],
   "source": [
    "recclass_counts = df['recclass'].value_counts()\n",
    "recclass_counts"
   ]
  },
  {
   "cell_type": "code",
   "execution_count": 27,
   "metadata": {},
   "outputs": [
    {
     "data": {
      "text/html": [
       "<div>\n",
       "<style scoped>\n",
       "    .dataframe tbody tr th:only-of-type {\n",
       "        vertical-align: middle;\n",
       "    }\n",
       "\n",
       "    .dataframe tbody tr th {\n",
       "        vertical-align: top;\n",
       "    }\n",
       "\n",
       "    .dataframe thead th {\n",
       "        text-align: right;\n",
       "    }\n",
       "</style>\n",
       "<table border=\"1\" class=\"dataframe\">\n",
       "  <thead>\n",
       "    <tr style=\"text-align: right;\">\n",
       "      <th></th>\n",
       "      <th>recclass</th>\n",
       "      <th>count</th>\n",
       "      <th>average_mass (g)</th>\n",
       "      <th>average_year</th>\n",
       "    </tr>\n",
       "  </thead>\n",
       "  <tbody>\n",
       "    <tr>\n",
       "      <th>0</th>\n",
       "      <td>L6</td>\n",
       "      <td>680</td>\n",
       "      <td>146.663763</td>\n",
       "      <td>2007.376471</td>\n",
       "    </tr>\n",
       "    <tr>\n",
       "      <th>1</th>\n",
       "      <td>L5</td>\n",
       "      <td>577</td>\n",
       "      <td>129.106912</td>\n",
       "      <td>2006.417678</td>\n",
       "    </tr>\n",
       "    <tr>\n",
       "      <th>2</th>\n",
       "      <td>H5</td>\n",
       "      <td>422</td>\n",
       "      <td>141.583453</td>\n",
       "      <td>2007.018957</td>\n",
       "    </tr>\n",
       "    <tr>\n",
       "      <th>3</th>\n",
       "      <td>LL6</td>\n",
       "      <td>411</td>\n",
       "      <td>118.985937</td>\n",
       "      <td>2007.798054</td>\n",
       "    </tr>\n",
       "    <tr>\n",
       "      <th>4</th>\n",
       "      <td>H6</td>\n",
       "      <td>347</td>\n",
       "      <td>126.125461</td>\n",
       "      <td>2006.953890</td>\n",
       "    </tr>\n",
       "    <tr>\n",
       "      <th>5</th>\n",
       "      <td>LL5</td>\n",
       "      <td>231</td>\n",
       "      <td>144.691342</td>\n",
       "      <td>2007.281385</td>\n",
       "    </tr>\n",
       "    <tr>\n",
       "      <th>6</th>\n",
       "      <td>H4</td>\n",
       "      <td>211</td>\n",
       "      <td>167.287896</td>\n",
       "      <td>2007.672986</td>\n",
       "    </tr>\n",
       "    <tr>\n",
       "      <th>7</th>\n",
       "      <td>L4</td>\n",
       "      <td>150</td>\n",
       "      <td>175.588013</td>\n",
       "      <td>2006.993333</td>\n",
       "    </tr>\n",
       "    <tr>\n",
       "      <th>8</th>\n",
       "      <td>Eucrite</td>\n",
       "      <td>79</td>\n",
       "      <td>169.710177</td>\n",
       "      <td>2007.455696</td>\n",
       "    </tr>\n",
       "    <tr>\n",
       "      <th>9</th>\n",
       "      <td>Ureilite</td>\n",
       "      <td>68</td>\n",
       "      <td>166.383676</td>\n",
       "      <td>2007.220588</td>\n",
       "    </tr>\n",
       "    <tr>\n",
       "      <th>10</th>\n",
       "      <td>CV3</td>\n",
       "      <td>59</td>\n",
       "      <td>157.404237</td>\n",
       "      <td>2008.254237</td>\n",
       "    </tr>\n",
       "    <tr>\n",
       "      <th>11</th>\n",
       "      <td>CO3</td>\n",
       "      <td>57</td>\n",
       "      <td>129.105439</td>\n",
       "      <td>2008.263158</td>\n",
       "    </tr>\n",
       "    <tr>\n",
       "      <th>12</th>\n",
       "      <td>Howardite</td>\n",
       "      <td>55</td>\n",
       "      <td>157.974182</td>\n",
       "      <td>2008.290909</td>\n",
       "    </tr>\n",
       "    <tr>\n",
       "      <th>13</th>\n",
       "      <td>Diogenite</td>\n",
       "      <td>52</td>\n",
       "      <td>165.059808</td>\n",
       "      <td>2007.519231</td>\n",
       "    </tr>\n",
       "    <tr>\n",
       "      <th>14</th>\n",
       "      <td>L3</td>\n",
       "      <td>49</td>\n",
       "      <td>150.416122</td>\n",
       "      <td>2007.755102</td>\n",
       "    </tr>\n",
       "    <tr>\n",
       "      <th>15</th>\n",
       "      <td>LL4</td>\n",
       "      <td>43</td>\n",
       "      <td>182.442326</td>\n",
       "      <td>2007.465116</td>\n",
       "    </tr>\n",
       "    <tr>\n",
       "      <th>16</th>\n",
       "      <td>Mesosiderite</td>\n",
       "      <td>42</td>\n",
       "      <td>141.262857</td>\n",
       "      <td>2006.809524</td>\n",
       "    </tr>\n",
       "    <tr>\n",
       "      <th>17</th>\n",
       "      <td>H3</td>\n",
       "      <td>39</td>\n",
       "      <td>117.853590</td>\n",
       "      <td>2006.666667</td>\n",
       "    </tr>\n",
       "    <tr>\n",
       "      <th>18</th>\n",
       "      <td>Eucrite-pmict</td>\n",
       "      <td>36</td>\n",
       "      <td>140.821667</td>\n",
       "      <td>2008.861111</td>\n",
       "    </tr>\n",
       "    <tr>\n",
       "      <th>19</th>\n",
       "      <td>H~5</td>\n",
       "      <td>34</td>\n",
       "      <td>119.764706</td>\n",
       "      <td>2007.382353</td>\n",
       "    </tr>\n",
       "  </tbody>\n",
       "</table>\n",
       "</div>"
      ],
      "text/plain": [
       "         recclass  count  average_mass (g)  average_year\n",
       "0              L6    680        146.663763   2007.376471\n",
       "1              L5    577        129.106912   2006.417678\n",
       "2              H5    422        141.583453   2007.018957\n",
       "3             LL6    411        118.985937   2007.798054\n",
       "4              H6    347        126.125461   2006.953890\n",
       "5             LL5    231        144.691342   2007.281385\n",
       "6              H4    211        167.287896   2007.672986\n",
       "7              L4    150        175.588013   2006.993333\n",
       "8         Eucrite     79        169.710177   2007.455696\n",
       "9        Ureilite     68        166.383676   2007.220588\n",
       "10            CV3     59        157.404237   2008.254237\n",
       "11            CO3     57        129.105439   2008.263158\n",
       "12      Howardite     55        157.974182   2008.290909\n",
       "13      Diogenite     52        165.059808   2007.519231\n",
       "14             L3     49        150.416122   2007.755102\n",
       "15            LL4     43        182.442326   2007.465116\n",
       "16   Mesosiderite     42        141.262857   2006.809524\n",
       "17             H3     39        117.853590   2006.666667\n",
       "18  Eucrite-pmict     36        140.821667   2008.861111\n",
       "19            H~5     34        119.764706   2007.382353"
      ]
     },
     "execution_count": 27,
     "metadata": {},
     "output_type": "execute_result"
    }
   ],
   "source": [
    "#df = df[(df['mass (g)'] <= 453.592) & (df['mass (g)'] >= 28.3495)]\n",
    "#df = df[(df['year'] <= 2024) & (df['year'] >= 2004)]\n",
    "\n",
    "# Calculate the counts of each recclass\n",
    "recclass_counts = df['recclass'].value_counts()\n",
    "\n",
    "# Get the top 20 recclass values\n",
    "top_20_recclass_counts = recclass_counts.head(20)\n",
    "\n",
    "# Calculate the average mass for each recclass\n",
    "recclass_avg_mass = df.groupby('recclass')['mass (g)'].mean()\n",
    "recclass_avg_year = df.groupby('recclass')['year'].mean()\n",
    "\n",
    "# Combine the counts and average mass into a single DataFrame\n",
    "top_20_recclass_df = top_20_recclass_counts.reset_index()\n",
    "top_20_recclass_df.columns = ['recclass', 'count']\n",
    "top_20_recclass_df['average_mass (g)'] = top_20_recclass_df['recclass'].map(recclass_avg_mass)\n",
    "top_20_recclass_df['average_year'] = top_20_recclass_df['recclass'].map(recclass_avg_year)\n",
    "# Display the top 20 recclass values with counts and average mass\n",
    "top_20_recclass_df"
   ]
  }
 ],
 "metadata": {
  "kernelspec": {
   "display_name": "base",
   "language": "python",
   "name": "python3"
  },
  "language_info": {
   "codemirror_mode": {
    "name": "ipython",
    "version": 3
   },
   "file_extension": ".py",
   "mimetype": "text/x-python",
   "name": "python",
   "nbconvert_exporter": "python",
   "pygments_lexer": "ipython3",
   "version": "3.10.14"
  }
 },
 "nbformat": 4,
 "nbformat_minor": 2
}
