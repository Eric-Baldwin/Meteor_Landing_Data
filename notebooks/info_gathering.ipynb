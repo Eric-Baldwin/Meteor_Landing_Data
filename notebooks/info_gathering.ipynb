{
 "cells": [
  {
   "cell_type": "code",
   "execution_count": null,
   "metadata": {},
   "outputs": [],
   "source": []
  },
  {
   "cell_type": "code",
   "execution_count": 1,
   "metadata": {},
   "outputs": [],
   "source": [
    "import pandas as pd\n",
    "file_path = '/home/eric_baldwin/ddiMain/midterm/Meteor_Landing_Data/data/Meteorite_Landings_20240617.csv'\n",
    "df = pd.read_csv(file_path)"
   ]
  },
  {
   "cell_type": "code",
   "execution_count": 2,
   "metadata": {},
   "outputs": [
    {
     "data": {
      "text/plain": [
       "(45716, 10)"
      ]
     },
     "execution_count": 2,
     "metadata": {},
     "output_type": "execute_result"
    }
   ],
   "source": [
    "table_shape = df.shape\n",
    "table_shape"
   ]
  },
  {
   "cell_type": "code",
   "execution_count": 3,
   "metadata": {},
   "outputs": [
    {
     "name": "stdout",
     "output_type": "stream",
     "text": [
      "Minimum mass (g): 0.0\n",
      "Maximum mass (g): 60000000.0\n"
     ]
    }
   ],
   "source": [
    "min_mass = df['mass (g)'].min()\n",
    "max_mass = df['mass (g)'].max()\n",
    "print(f\"Minimum mass (g): {min_mass}\")\n",
    "print(f\"Maximum mass (g): {max_mass}\")"
   ]
  },
  {
   "cell_type": "code",
   "execution_count": 4,
   "metadata": {},
   "outputs": [
    {
     "data": {
      "text/plain": [
       "fall\n",
       "Fell     47070.715023\n",
       "Found    12461.922983\n",
       "Name: mass (g), dtype: float64"
      ]
     },
     "execution_count": 4,
     "metadata": {},
     "output_type": "execute_result"
    }
   ],
   "source": [
    "average_mass = df.groupby('fall')['mass (g)'].mean()\n",
    "average_mass"
   ]
  },
  {
   "cell_type": "code",
   "execution_count": 5,
   "metadata": {},
   "outputs": [
    {
     "data": {
      "text/plain": [
       "Found    44609\n",
       "Fell      1107\n",
       "Name: fall, dtype: int64"
      ]
     },
     "execution_count": 5,
     "metadata": {},
     "output_type": "execute_result"
    }
   ],
   "source": [
    "fall_counts = df['fall'].value_counts()\n",
    "fall_counts"
   ]
  },
  {
   "cell_type": "code",
   "execution_count": 6,
   "metadata": {},
   "outputs": [
    {
     "data": {
      "text/plain": [
       "(fall\n",
       " Fell     0.1\n",
       " Found    0.0\n",
       " Name: mass (g), dtype: float64,\n",
       " fall\n",
       " Fell     23000000.0\n",
       " Found    60000000.0\n",
       " Name: mass (g), dtype: float64)"
      ]
     },
     "execution_count": 6,
     "metadata": {},
     "output_type": "execute_result"
    }
   ],
   "source": [
    "min_mass = df.groupby('fall')['mass (g)'].min()\n",
    "max_mass = df.groupby('fall')['mass (g)'].max()\n",
    "min_mass, max_mass"
   ]
  },
  {
   "cell_type": "code",
   "execution_count": 7,
   "metadata": {},
   "outputs": [
    {
     "data": {
      "text/plain": [
       "(fall\n",
       " Fell      860.0\n",
       " Found    1575.0\n",
       " Name: year, dtype: float64,\n",
       " fall\n",
       " Fell     2013.0\n",
       " Found    2101.0\n",
       " Name: year, dtype: float64)"
      ]
     },
     "execution_count": 7,
     "metadata": {},
     "output_type": "execute_result"
    }
   ],
   "source": [
    "min_yr = df.groupby('fall')['year'].min()\n",
    "max_yr = df.groupby('fall')['year'].max()\n",
    "min_yr, max_yr"
   ]
  },
  {
   "cell_type": "code",
   "execution_count": 8,
   "metadata": {},
   "outputs": [
    {
     "data": {
      "text/plain": [
       "L6         8285\n",
       "H5         7142\n",
       "L5         4796\n",
       "H6         4528\n",
       "H4         4211\n",
       "           ... \n",
       "EL7           1\n",
       "CH/CBb        1\n",
       "H/L~4         1\n",
       "LL3.7-6       1\n",
       "L/LL          1\n",
       "Name: recclass, Length: 466, dtype: int64"
      ]
     },
     "execution_count": 8,
     "metadata": {},
     "output_type": "execute_result"
    }
   ],
   "source": [
    "recclass_counts = df['recclass'].value_counts()\n",
    "recclass_counts"
   ]
  },
  {
   "cell_type": "code",
   "execution_count": 12,
   "metadata": {},
   "outputs": [
    {
     "data": {
      "text/html": [
       "<div>\n",
       "<style scoped>\n",
       "    .dataframe tbody tr th:only-of-type {\n",
       "        vertical-align: middle;\n",
       "    }\n",
       "\n",
       "    .dataframe tbody tr th {\n",
       "        vertical-align: top;\n",
       "    }\n",
       "\n",
       "    .dataframe thead th {\n",
       "        text-align: right;\n",
       "    }\n",
       "</style>\n",
       "<table border=\"1\" class=\"dataframe\">\n",
       "  <thead>\n",
       "    <tr style=\"text-align: right;\">\n",
       "      <th></th>\n",
       "      <th>recclass</th>\n",
       "      <th>count</th>\n",
       "      <th>average_mass (g)</th>\n",
       "      <th>average_year</th>\n",
       "    </tr>\n",
       "  </thead>\n",
       "  <tbody>\n",
       "    <tr>\n",
       "      <th>0</th>\n",
       "      <td>L6</td>\n",
       "      <td>8285</td>\n",
       "      <td>1450.444284</td>\n",
       "      <td>1991.464927</td>\n",
       "    </tr>\n",
       "    <tr>\n",
       "      <th>1</th>\n",
       "      <td>H5</td>\n",
       "      <td>7142</td>\n",
       "      <td>2166.091410</td>\n",
       "      <td>1991.008866</td>\n",
       "    </tr>\n",
       "    <tr>\n",
       "      <th>2</th>\n",
       "      <td>L5</td>\n",
       "      <td>4796</td>\n",
       "      <td>1797.351703</td>\n",
       "      <td>1998.452386</td>\n",
       "    </tr>\n",
       "    <tr>\n",
       "      <th>3</th>\n",
       "      <td>H6</td>\n",
       "      <td>4528</td>\n",
       "      <td>862.366988</td>\n",
       "      <td>1993.158547</td>\n",
       "    </tr>\n",
       "    <tr>\n",
       "      <th>4</th>\n",
       "      <td>H4</td>\n",
       "      <td>4211</td>\n",
       "      <td>997.419550</td>\n",
       "      <td>1989.459976</td>\n",
       "    </tr>\n",
       "  </tbody>\n",
       "</table>\n",
       "</div>"
      ],
      "text/plain": [
       "  recclass  count  average_mass (g)  average_year\n",
       "0       L6   8285       1450.444284   1991.464927\n",
       "1       H5   7142       2166.091410   1991.008866\n",
       "2       L5   4796       1797.351703   1998.452386\n",
       "3       H6   4528        862.366988   1993.158547\n",
       "4       H4   4211        997.419550   1989.459976"
      ]
     },
     "execution_count": 12,
     "metadata": {},
     "output_type": "execute_result"
    }
   ],
   "source": [
    "#df = df[(df['mass (g)'] <= 453.592) & (df['mass (g)'] >= 28.3495)]\n",
    "#df = df[(df['year'] <= 2024) & (df['year'] >= 2004)]\n",
    "\n",
    "# Calculate the counts of each recclass\n",
    "recclass_counts = df['recclass'].value_counts()\n",
    "\n",
    "# Get the top 20 recclass values\n",
    "top_20_recclass_counts = recclass_counts.head(5)\n",
    "\n",
    "# Calculate the average mass for each recclass\n",
    "recclass_avg_mass = df.groupby('recclass')['mass (g)'].mean()\n",
    "recclass_avg_year = df.groupby('recclass')['year'].mean()\n",
    "\n",
    "# Combine the counts and average mass into a single DataFrame\n",
    "top_20_recclass_df = top_20_recclass_counts.reset_index()\n",
    "top_20_recclass_df.columns = ['recclass', 'count']\n",
    "top_20_recclass_df['average_mass (g)'] = top_20_recclass_df['recclass'].map(recclass_avg_mass)\n",
    "top_20_recclass_df['average_year'] = top_20_recclass_df['recclass'].map(recclass_avg_year)\n",
    "# Display the top 20 recclass values with counts and average mass\n",
    "top_20_recclass_df"
   ]
  },
  {
   "cell_type": "code",
   "execution_count": 13,
   "metadata": {},
   "outputs": [
    {
     "name": "stdout",
     "output_type": "stream",
     "text": [
      "Unique values in the 'nametype' column:\n",
      "['Valid' 'Relict']\n"
     ]
    }
   ],
   "source": [
    "# Display all unique values in the nametype column\n",
    "unique_nametype_values = df['nametype'].unique()\n",
    "print(\"Unique values in the 'nametype' column:\")\n",
    "print(unique_nametype_values)"
   ]
  },
  {
   "cell_type": "code",
   "execution_count": 16,
   "metadata": {},
   "outputs": [
    {
     "name": "stdout",
     "output_type": "stream",
     "text": [
      "Count of rows with nametype 'valid': 45641\n",
      "Count of rows with nametype 'relict': 75\n"
     ]
    }
   ],
   "source": [
    "nametype_counts = df['nametype'].value_counts()\n",
    "\n",
    "# Display the counts for 'valid' and 'relict'\n",
    "valid_count = nametype_counts.get('Valid', 0)\n",
    "relict_count = nametype_counts.get('Relict', 0)\n",
    "\n",
    "print(f\"Count of rows with nametype 'valid': {valid_count}\")\n",
    "print(f\"Count of rows with nametype 'relict': {relict_count}\")"
   ]
  }
 ],
 "metadata": {
  "kernelspec": {
   "display_name": "base",
   "language": "python",
   "name": "python3"
  },
  "language_info": {
   "codemirror_mode": {
    "name": "ipython",
    "version": 3
   },
   "file_extension": ".py",
   "mimetype": "text/x-python",
   "name": "python",
   "nbconvert_exporter": "python",
   "pygments_lexer": "ipython3",
   "version": "3.10.14"
  }
 },
 "nbformat": 4,
 "nbformat_minor": 2
}
